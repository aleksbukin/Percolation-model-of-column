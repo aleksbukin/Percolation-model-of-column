{
 "cells": [
  {
   "cell_type": "markdown",
   "metadata": {
    "id": "hHzwT6chFB4n"
   },
   "source": [
    "# Moдель колонны для очистки воздуха от трития\n",
    "    - Код написан максимально просто иногда даже в угоду эффективности для предания простоты интепретации его\n",
    "    \n",
    "### Заметки по релизу:\n",
    "    - Добавлен параметр: вероятность того, что трассер останется в той же ячейке (т.е. как бы добежит до конца ячейки и вернется в начало). Вероятность остаться в ячейке не зависит от свойств ячейки (константа для всех ячеек). Добавлен параметр: для каждой ячейки может быть отключено несколько связей с соседними ячейками, что имитирует расположения насадочного элемента в пространстве.  Добавлен параметр: минимальный поток питания в ячейке Lm"
   ]
  },
  {
   "cell_type": "code",
   "execution_count": 30,
   "metadata": {
    "id": "g4jCyLBE_675"
   },
   "outputs": [],
   "source": [
    "import pandas as pd\n",
    "import numpy as np\n",
    "from tqdm import tqdm\n",
    "import multiprocessing\n",
    "\n",
    "%matplotlib inline\n",
    "from scipy.stats import bernoulli # по-умолчанию, колонна заполнена равномерно, каждая ячейка с одинаковой вероятностью может содержать катализатор"
   ]
  },
  {
   "cell_type": "markdown",
   "metadata": {
    "id": "LfuuAB0AAMsS"
   },
   "source": [
    "# Реализация модели колонны\n",
    "Основной вопрос: как создать модель цилиндрической колонны?\n",
    " - Идея: сначала рисуем квадратное сечение, потом его заполняем окружностями\n",
    " - Потом все окружности, чьи центры не вошли во вписанную в квадрат окружность отмечаем как уже заполненные (несмачиваемые).\n",
    " - Оставшиеся окружности будем использовать далее в модели, как свободное пространство в колонне перед началом эксперимента. \n",
    " \n",
    "<figure>\n",
    "<center>\n",
    "<img src='./ColonModel.png' height=\"500\" width=\"500\" />\n",
    "<figcaption>Pillar Model</figcaption></center>\n",
    "</figure>"
   ]
  },
  {
   "cell_type": "code",
   "execution_count": 54,
   "metadata": {
    "id": "opfgRjFcE7MX"
   },
   "outputs": [],
   "source": [
    "# вспомогательаня функция для расчёта перцентилей\n",
    "def percentile(n):\n",
    "    def percentile_(x):\n",
    "        return np.percentile(x, n)\n",
    "    percentile_.__name__ = 'percentile_%s' % n\n",
    "    return percentile_\n",
    " \n",
    "# вспомогательная функция, чтобы создавать трехмерные структуры из ячеек (тензоры)\n",
    "def cartesian_product(*arrays):\n",
    "    la = len(arrays)\n",
    "    dtype = np.result_type(*arrays)\n",
    "    arr = np.empty([len(a) for a in arrays] + [la], dtype=dtype)\n",
    "    for i, a in enumerate(np.ix_(*arrays)):\n",
    "        arr[...,i] = a\n",
    "    return arr.reshape(-1, la)  \n",
    " \n",
    "# функция создаёт колонну\n",
    "def create_pillar(lvDiameter=13, lvHeight=75, lvLen=2):\n",
    "    a = cartesian_product(np.arange(0, lvDiameter), np.arange(0, lvDiameter), np.arange(0, lvHeight))\n",
    " \n",
    "    pillar_df = pd.DataFrame({'length': a[:,0], \n",
    "                       'width': a[:,1], \n",
    "                       'height': a[:,2],\n",
    "                       'status': [0]*lvDiameter*lvDiameter*lvHeight})\n",
    "\n",
    "#     lvInitX = lvDiameter//2     # абсцисса ячейки, в которую запускают струю \n",
    "#     lvInitY = lvDiameter//2     # ордината ячейки, в которую запускают струю \n",
    "    \n",
    "    # Маркируем те ячейки, центры которых не содержатся во вписанной в окружности \n",
    "    R = 0.5*lvDiameter*lvLen # центр сечения квадрата находится с координатами (R, R)\n",
    "    pillar_df['distance from center']=[np.sqrt((1.0*lvLen*(pillar_df.loc[x,'length']+0.5)-R)**2+(1.0*lvLen*(pillar_df.loc[x, 'width']+0.5)-R)**2) for x in pillar_df.index]\n",
    "    pillar_df['free_cell_flg'] = [pillar_df.loc[x,'distance from center']<=R for x in pillar_df.index]\n",
    "    pillar_df['volume'] = 0\n",
    "    \n",
    "    # для удобства работы, делаем сводную таблицу из датафрейма\n",
    "    pillar_df.set_index(['length', 'width', 'height'], inplace = True)\n",
    "    \n",
    "    \n",
    "    return pillar_df\n",
    " \n",
    "# вспомогательная функция ищет номера соседних нижних ячеек для данной\n",
    "def neighbour_cells(cell, stepZ, df, status=[0], free_cell_flg=[True]):\n",
    "    final_list = []\n",
    "    \n",
    "    maxX =maxY = df.index.get_level_values('width').max()\n",
    "    maxZ = df.index.get_level_values('height').max()\n",
    "    \n",
    "    if cell and cell[2]+stepZ<= maxZ:                           # проверка, что ячейка не пустая и аппликата не максимальна\n",
    "        for i in [-1, 0, 1]:                                          # \n",
    "            if cell[0]+i>=0 and cell[0]+i<maxX:\n",
    "                for j in [-1, 0, 1]:\n",
    "                    if (cell[1]+j>=0 and cell[1]+j<maxY                            # не вылазим за диапазон\n",
    "                        and df.status.loc[cell[0]+i, cell[1]+j, cell[2]+stepZ] in status            # ищем ячейки только нужного статуса\n",
    "                        and df.free_cell_flg.loc[cell[0]+i, cell[1]+j, cell[2]+stepZ] in free_cell_flg  # ищем ячейки только нужного типа\n",
    "                        and [i, j, stepZ]!=[0,0,0]):                               # в ответе не нужна текущая ячейка     \n",
    "                        final_list += [tuple(np.array(cell)+np.array([i, j, stepZ]))]\n",
    "    return final_list\n",
    " \n",
    "# функция находит, нет ли свободных ячеек, у которых все соседние нижние являются заняты катализатором (ситуации типа \"пробка\")\n",
    "def check_locked_cells(df):\n",
    "    not_empty_cells = df[df.status==1].index\n",
    " \n",
    "    locked_cells = []\n",
    "    \n",
    "    for cell in not_empty_cells:\n",
    "        n_cells = neighbour_cells(cell, stepZ=0, df=df, status=[0]) # список соседних ячеек\n",
    " \n",
    "        # если все соседние ячейки являются заполненными катализатором (и это не последний слой), тогда добавляем эту ячейку в список заблокированных \n",
    "        if not n_cells: \n",
    "            locked_cells += [tuple(cell)]\n",
    " \n",
    "    return locked_cells\n",
    " \n",
    "\n",
    "# функция заполняем колонну катализатором случайным образом\n",
    "def put_catalyst(df, lvInitX, lvInitY, lvCatalystShare=1.0/5, draw = False):\n",
    "    \n",
    "    # работаем только с заполненными ячейками    \n",
    "    empty_cells = df['free_cell_flg'] == True\n",
    "    \n",
    "    # случайным образом распределяем катализатор по свободным ячейкам колонны: 0 (нет катализатора) и 1 (есть катализатор)\n",
    "    df.loc[empty_cells, 'status'] = bernoulli.rvs(p=lvCatalystShare, size=empty_cells.sum()) #\n",
    " \n",
    "    # объём всех незаполненных ячеек определяем нулём\n",
    "    df.loc[empty_cells, 'volume'] = 0 # \n",
    " \n",
    "    # статистика по катализатору\n",
    "    if draw:\n",
    "        print('Всего заполнено ячеек = ' + str(df.loc[empty_cells, 'status'].sum()))\n",
    "        print('Доля заполненных катализатором ячеек = ', str(df.loc[empty_cells, 'status'].sum()/empty_cells.sum()))\n",
    " \n",
    "    # инициализация: помещаем каплю, удаляем катализатор из начальной ячейки [mpInitX, mpInitY, 0] (если он там был)\n",
    "    df.loc[(lvInitX,lvInitY,0),'status'] = 0\n",
    "    df.loc[(lvInitX,lvInitY,0),'volume'] = 1\n",
    " \n",
    "    \n",
    "    # находим все заблокированные ячейки\n",
    "    locked_cells = check_locked_cells(df)\n",
    " \n",
    "    # если есть такие, то делаем отверстие в \"пробке\" путём удаления катализатора из случайной учейки из числа соседних нижних\n",
    "    for c in locked_cells:\n",
    "        df.loc[c,'status'] = 0 # изменяем статус этой ячейки, в дальнейшем можно рандомно выбирать ячейку из окружения \n",
    "  \n",
    "    # размечаем пустые ячейки\n",
    "    free_cells = np.array(df.free_cell_flg==True)\n",
    " \n",
    "    # размечаем ячейки без катализатора\n",
    "    cells_wo_catalyst = np.array(df.status ==0)  \n",
    " \n",
    "    \n",
    "    # бежим с вернего уровня до нижнего и считаем объём потока в каждой ячейке\n",
    "    height = df.index.get_level_values('height').max()\n",
    "    \n",
    "    for z in np.arange(height):\n",
    "        for c in df[(df.index.get_level_values('height') == z ) & free_cells & cells_wo_catalyst].index:\n",
    "            n_cells = neighbour_cells(c, stepZ=1, df=df)\n",
    "            if n_cells:\n",
    "                 df.loc[n_cells,'volume'] += df.loc[c,'volume']/len(n_cells)\n",
    "            else: \n",
    "                if draw:\n",
    "                    print('Ячейка ', c, ' не содержит потока.')    \n",
    " \n",
    "    # проверяем, объем поток по каждому сечению (долен быть равен 1 для каждого уровня)\n",
    "    if draw:\n",
    "        df[['volume']].groupby('height').sum().plot(figsize=(25,5))\n",
    "    return df\n",
    " \n",
    "# Моделирование скорости потока\n",
    "def try_sample(df, init_cell,lvLeaveProbability, lvSampleSize = 100):\n",
    "    '''\n",
    "    df - <pandas dataframe> - колонна \n",
    "    init_cell int[3, 1] - координаты начальное ячейки, куда запускают струю\n",
    "    lvProbabilityLeave - <float in [0,1]> - вероятность трассера покинуть ячейку после её прохождения \n",
    "    lvSampleSize  - <int> - размер выборки (количество трассеров в эксперименте)\n",
    "    '''\n",
    "        \n",
    "    # создаем массив длиной mpSampleSize, куда будем записывать время прохождения молекул через колонну\n",
    "    time_df = pd.DataFrame({'time':np.array([0]*lvSampleSize)})\n",
    "    height = df.index.get_level_values('height').max()\n",
    " \n",
    "    # бежим в цикле, чтобы записать результаты по каждому сэмплу (сэмпл - прогон молекулы через колонну)\n",
    "    for i in time_df.index:\n",
    "        # инициилизируем ячейку, с которой начинается движение молекулы\n",
    "          current_сell = init_cell\n",
    " \n",
    "          # бежим в цикле по уровням колонны (сверху вниз)\n",
    "          for z in np.arange(height):\n",
    " \n",
    "                # собираем коордианту z следующей ячейки\n",
    "    #             next_cell[2]=z+1\n",
    "                n_cells = neighbour_cells(current_сell, stepZ=1, df=df)\n",
    " \n",
    "                # выбираем случайным образом ячейку из тех, что свободны\n",
    "                cell_no = np.random.randint(low = 0, high=len(n_cells))\n",
    "                \n",
    "                leave_flg = np.random.rand() <= lvLeaveProbability\n",
    "                time_df.loc[i, 'time'] += 1.0/df.loc[tuple(current_сell), 'volume']\n",
    "                \n",
    "                while not leave_flg:\n",
    "                        leave_flg = np.random.rand() <= lvLeaveProbability\n",
    "                        time_df.loc[i, 'time'] += 1.0/df.loc[tuple(current_сell), 'volume']               \n",
    "                \n",
    "                current_сell = n_cells[cell_no]    # переходим в следующую ячейку (меняем тип переменной с array на list)\n",
    " \n",
    "    # добавляем время прохождения самого нижнего уровня\n",
    "    time_df.loc[i, 'time'] += 1.0/df.loc[tuple(current_сell), 'volume'] \n",
    "    \n",
    "    return time_df\n",
    " \n",
    "def run_experiment(lvDiameters = [13], lvHeights=[75], lvCatalystShares = [1.0/5], lvPutCatalystTries = 2, lvLeaveProbabilities = [0.5], lvSampleSizes=[1000, 10000], lvLen = 2.0, draw=False):\n",
    "    '''lvLen = 2.0                 # шаг ячейки (например, 2 мм).\n",
    "    lvDiameter = 13             # Диаметр основания (цилиндрической) колонны, пересчитанное на число ячеек (например, 13 ячеек)\n",
    "    lvHeight = 75               # Высота колонны, пересчитанное на число ячеек (например, 75 ячеек)\n",
    "    lvCatalystShare = 1.0/5     # Доля гидрофобного катализатора в колонне\n",
    "    lvPutCatalystTries = 2      # сколько раз будем по разному заполнять колонну катализатором\n",
    "    lvSampleSize = 1000         # сколько различных молекул будет пропущено по колонне\n",
    "    ''' \n",
    "    \n",
    "    time_stat = pd.DataFrame(columns=['diameter', 'height', 'catalystshare', 'try', 'leave_probability' , 'sample_size', 'time'])\n",
    "    for d in tqdm(lvDiameters, desc='цикл по диаметрам', ):\n",
    "        for h in tqdm(lvHeights, desc='цикл по высоте колонны'):\n",
    "            pillar = create_pillar(lvDiameter=d, lvHeight=h, lvLen=lvLen)\n",
    "            \n",
    "            lvInitX = d//2     # абсцисса ячейки, в которую запускают струю \n",
    "            lvInitY = d//2     # ордината ячейки, в которую запускают струю\n",
    "    \n",
    "            for sh in tqdm(lvCatalystShares, desc='цикл доля катализатора'):\n",
    "                 \n",
    "                for ct in tqdm(range(lvPutCatalystTries), desc='цикл по тому, как по-разному заполнили колонну'):\n",
    "                    \n",
    "                    # Внимание: самый времязатратный шаг\n",
    "                    pillar = put_catalyst(df=pillar, lvInitX=lvInitX, lvInitY=lvInitY, lvCatalystShare=sh, draw = draw) \n",
    "                    \n",
    "                    for p in tqdm(lvLeaveProbabilities, desc='цикл по вероястности покинуть ячейку'):\n",
    "                        for ss in tqdm(lvSampleSizes, desc='цикл по трассерам'):\n",
    "                            time = try_sample(df=pillar, init_cell =(lvInitX, lvInitY, 0), lvLeaveProbability =p,  lvSampleSize = ss)\n",
    "                            time['diameter'] = d\n",
    "                            time['height'] = h\n",
    "                            time['catalystshare']=sh\n",
    "                            time['leave_probability'] = p\n",
    "                            time['try'] = ct\n",
    "                            time['sample_size'] = ss\n",
    "                            time_stat = time_stat.append(time)\n",
    "                        # print(time_stat.shape)\n",
    "                        \n",
    "    return time_stat"
   ]
  },
  {
   "cell_type": "markdown",
   "metadata": {
    "id": "6I24rPLzcCsg"
   },
   "source": [
    "# Запуск экспериментов"
   ]
  },
  {
   "cell_type": "code",
   "execution_count": null,
   "metadata": {
    "colab": {
     "background_save": true
    },
    "id": "daXUpCOsKJGh"
   },
   "outputs": [
    {
     "name": "stderr",
     "output_type": "stream",
     "text": [
      "цикл по диаметрам:   0%|                                                                         | 0/1 [00:00<?, ?it/s]\n",
      "цикл по высоте колонны:   0%|                                                                    | 0/1 [00:00<?, ?it/s]\n",
      "\n",
      "цикл доля катализатора:   0%|                                                                    | 0/1 [00:00<?, ?it/s]\n",
      "\n",
      "\n",
      "цикл по тому, как по-разному заполнили колонну:   0%|                                            | 0/1 [00:00<?, ?it/s]"
     ]
    }
   ],
   "source": [
    "time = run_experiment(lvDiameters = [13], lvHeights=[75], lvCatalystShares = [1.0/5],\n",
    "                      lvPutCatalystTries = 1, lvLeaveProbabilities = [0.1, 0.2, 0.3, 0.4, 0.5, 0.6, 0.7, 0.8, 0.9], \n",
    "                      lvSampleSizes=[10000], \n",
    "                      draw=False) \n",
    "# time2 = run_experiment(lvDiameters = [13], lvHeights=[5], lvCatalystShares = [1.0/5], lvPutCatalystTries = 2, lvSampleSizes=[1000, 10000], draw=True)"
   ]
  },
  {
   "cell_type": "code",
   "execution_count": null,
   "metadata": {
    "colab": {
     "base_uri": "https://localhost:8080/",
     "height": 1000
    },
    "executionInfo": {
     "elapsed": 1124,
     "status": "error",
     "timestamp": 1605699487465,
     "user": {
      "displayName": "Алексей Романенко",
      "photoUrl": "https://lh3.googleusercontent.com/a-/AOh14GjX-Vp1QUnaNtd8Tyu8Ut3VgsCTLgmcgSY9Pbd7Nw=s64",
      "userId": "12846064280321550031"
     },
     "user_tz": -180
    },
    "id": "LiNQIVDNLPr7",
    "outputId": "4f80e607-7e5b-4e96-90c5-393b838ecbb6"
   },
   "outputs": [],
   "source": [
    "time_stat = time.groupby(['diameter', 'height', 'catalystshare']).agg({percentile(5),percentile(25),percentile(50),percentile(75), percentile(95), 'mean', 'median', 'max', 'min', 'std'})\n",
    "time_stat[np.sort(time_stat.columns)]"
   ]
  },
  {
   "cell_type": "code",
   "execution_count": null,
   "metadata": {
    "colab": {
     "base_uri": "https://localhost:8080/",
     "height": 374
    },
    "executionInfo": {
     "elapsed": 514,
     "status": "error",
     "timestamp": 1605532238713,
     "user": {
      "displayName": "Aleksei Bukin",
      "photoUrl": "https://lh3.googleusercontent.com/a-/AOh14Gh0XCy4YOKwB5pqTM7IGyX3wVajvOPIQjr71rk=s64",
      "userId": "01331810300351417603"
     },
     "user_tz": -180
    },
    "id": "88pp-BdwgXHj",
    "outputId": "0c42e979-887c-4438-d25d-20905211dd3f"
   },
   "outputs": [],
   "source": [
    "time['time'].hist(figsize=(25,5), bins=100)"
   ]
  },
  {
   "cell_type": "code",
   "execution_count": null,
   "metadata": {},
   "outputs": [],
   "source": [
    "str(datetime.datetime.today())[:-7].replace(':', '_')"
   ]
  },
  {
   "cell_type": "code",
   "execution_count": null,
   "metadata": {
    "colab": {
     "base_uri": "https://localhost:8080/",
     "height": 248
    },
    "executionInfo": {
     "elapsed": 68896,
     "status": "error",
     "timestamp": 1605532313667,
     "user": {
      "displayName": "Aleksei Bukin",
      "photoUrl": "https://lh3.googleusercontent.com/a-/AOh14Gh0XCy4YOKwB5pqTM7IGyX3wVajvOPIQjr71rk=s64",
      "userId": "01331810300351417603"
     },
     "user_tz": -180
    },
    "id": "wYpRTB5NKpek",
    "outputId": "ce685b4f-1793-4180-d7ad-cc1055926c50"
   },
   "outputs": [],
   "source": [
    "# сохранение данных\n",
    "# from google.colab import drive\n",
    "# drive.mount('/drive')\n",
    "import datetime \n",
    "\n",
    "dttime = str(datetime.datetime.today())[:-7].replace(':', '_')\n",
    "path = 'time_csv_file'+dttime +'.csv' \n",
    "time.to_csv(path, sep=';', decimal=',')\n",
    " \n",
    "path = 'time_stat_file'+dttime+'.csv' \n",
    "time_stat.to_csv(path, sep=';', decimal=',')"
   ]
  }
 ],
 "metadata": {
  "colab": {
   "collapsed_sections": [],
   "name": "Copy of ProdolnoePeremeshivanie_v0.2.ipynb",
   "provenance": [
    {
     "file_id": "1BOBDcBF3ncQL3t_1rD59xf4tSRQR4d74",
     "timestamp": 1605018616649
    }
   ]
  },
  "kernelspec": {
   "display_name": "Python 3",
   "language": "python",
   "name": "python3"
  },
  "language_info": {
   "codemirror_mode": {
    "name": "ipython",
    "version": 3
   },
   "file_extension": ".py",
   "mimetype": "text/x-python",
   "name": "python",
   "nbconvert_exporter": "python",
   "pygments_lexer": "ipython3",
   "version": "3.6.8"
  }
 },
 "nbformat": 4,
 "nbformat_minor": 1
}
